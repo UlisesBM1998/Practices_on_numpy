{
 "cells": [
  {
   "cell_type": "code",
   "execution_count": 1,
   "id": "dac22877",
   "metadata": {},
   "outputs": [],
   "source": [
    "import numpy as np"
   ]
  },
  {
   "cell_type": "code",
   "execution_count": 2,
   "id": "9248ab5c",
   "metadata": {},
   "outputs": [
    {
     "name": "stdout",
     "output_type": "stream",
     "text": [
      "[  0   1   2   3   4   5   6   7   8   9  10  11  12  13  14  15  16  17\n",
      "  18  19  20  21  22  23  24  25  26  27  28  29  30  31  32  33  34  35\n",
      "  36  37  38  39  40  41  42  43  44  45  46  47  48  49  50  51  52  53\n",
      "  54  55  56  57  58  59  60  61  62  63  64  65  66  67  68  69  70  71\n",
      "  72  73  74  75  76  77  78  79  80  81  82  83  84  85  86  87  88  89\n",
      "  90  91  92  93  94  95  96  97  98  99 100]\n"
     ]
    }
   ],
   "source": [
    "numbers = np.arange(0,101)\n",
    "print(numbers)"
   ]
  },
  {
   "cell_type": "code",
   "execution_count": 5,
   "id": "6f5a1cb0",
   "metadata": {},
   "outputs": [
    {
     "data": {
      "text/plain": [
       "array([50, 51, 52, 53, 54, 55, 56, 57, 58, 59, 60, 61, 62, 63, 64, 65, 66,\n",
       "       67, 68, 69, 70, 71, 72, 73, 74, 75])"
      ]
     },
     "execution_count": 5,
     "metadata": {},
     "output_type": "execute_result"
    }
   ],
   "source": [
    "between50and75 = np.where((numbers>=50) & (numbers <=75))\n",
    "numbers[between50and75]"
   ]
  },
  {
   "cell_type": "code",
   "execution_count": 9,
   "id": "61c640ad",
   "metadata": {},
   "outputs": [
    {
     "name": "stdout",
     "output_type": "stream",
     "text": [
      "[   0  100  200  300  400  500  600  700  800  900 1000 1100 1200 1300\n",
      " 1400 1500 1600 1700 1800 1900 2000 2100 2200 2300 2400 2500 2600 2700\n",
      " 2800 2900 3000 3100 3200 3300 3400 3500 3600 3700 3800 3900 4000 4100\n",
      " 4200 4300 4400 4500 4600 4700 4800 4900 5000]\n"
     ]
    }
   ],
   "source": [
    "copyNumbers = numbers.copy()\n",
    "copyNumbers = numbers[0:51] * 100\n",
    "print(copyNumbers)"
   ]
  },
  {
   "cell_type": "code",
   "execution_count": 14,
   "id": "f8e782db",
   "metadata": {
    "scrolled": true
   },
   "outputs": [
    {
     "name": "stdout",
     "output_type": "stream",
     "text": [
      "[100  99  98  97  96  95  94  93  92  91  90  89  88  87  86  85  84  83\n",
      "  82  81  80  79  78  77  76  75  74  73  72  71  70  69  68  67  66  65\n",
      "  64  63  62  61  60  59  58  57  56  55  54  53  52  51  50  49  48  47\n",
      "  46  45  44  43  42  41  40  39  38  37  36  35  34  33  32  31  30  29\n",
      "  28  27  26  25  24  23  22  21  20  19  18  17  16  15  14  13  12  11\n",
      "  10   9   8   7   6   5   4   3   2   1   0]\n"
     ]
    }
   ],
   "source": [
    "higherThanLower = numbers[::-1]\n",
    "print(higherThanLower)"
   ]
  },
  {
   "cell_type": "code",
   "execution_count": 17,
   "id": "aba1757e",
   "metadata": {
    "scrolled": true
   },
   "outputs": [
    {
     "name": "stdout",
     "output_type": "stream",
     "text": [
      "[[1. 1. 1.]\n",
      " [1. 1. 1.]\n",
      " [1. 1. 1.]\n",
      " [0. 0. 0.]\n",
      " [0. 0. 0.]\n",
      " [0. 0. 0.]] \n",
      " [[1. 1. 1. 0. 0. 0.]\n",
      " [1. 1. 1. 0. 0. 0.]\n",
      " [1. 1. 1. 0. 0. 0.]]\n"
     ]
    }
   ],
   "source": [
    "listOfOnes = np.ones((3,3))\n",
    "listOfZeros = np.zeros((3,3))\n",
    "\n",
    "verticalStack = np.vstack((listOfOnes, listOfZeros))\n",
    "horizontalStack = np.hstack((listOfOnes, listOfZeros))\n",
    "\n",
    "print(verticalStack, \"\\n\", horizontalStack)"
   ]
  },
  {
   "cell_type": "code",
   "execution_count": 18,
   "id": "84701694",
   "metadata": {
    "scrolled": true
   },
   "outputs": [
    {
     "name": "stdout",
     "output_type": "stream",
     "text": [
      "[0.         0.55555556 1.11111111 1.66666667 2.22222222 2.77777778\n",
      " 3.33333333 3.88888889 4.44444444 5.        ]\n",
      "[[ 1  0  0]\n",
      " [ 0  5  0]\n",
      " [ 0  0 10]]\n",
      "[[8 8 8 8 8]\n",
      " [8 8 8 8 8]\n",
      " [8 8 8 8 8]\n",
      " [8 8 8 8 8]\n",
      " [8 8 8 8 8]]\n"
     ]
    }
   ],
   "source": [
    "arrayLin = np.linspace(0,5,10)\n",
    "print(arrayLin)\n",
    "dialNP = np.diag([1,5,10])\n",
    "print(dialNP)\n",
    "matrizOf8 = np.full((5,5), 8)\n",
    "print(matrizOf8)"
   ]
  },
  {
   "cell_type": "code",
   "execution_count": 19,
   "id": "74bc1cdc",
   "metadata": {},
   "outputs": [
    {
     "data": {
      "text/plain": [
       "2.706849839399938"
      ]
     },
     "execution_count": 19,
     "metadata": {},
     "output_type": "execute_result"
    }
   ],
   "source": [
    "np.random.seed(101)\n",
    "randomNumber = np.random.randn()\n",
    "randomNumber"
   ]
  },
  {
   "cell_type": "code",
   "execution_count": 22,
   "id": "86d06186",
   "metadata": {},
   "outputs": [
    {
     "name": "stdout",
     "output_type": "stream",
     "text": [
      "3.0\n",
      "2.0\n",
      "2.70685\n"
     ]
    }
   ],
   "source": [
    "ceil = np.ceil(randomNumber)\n",
    "floor = np.floor(randomNumber)\n",
    "roundNP = np.round(randomNumber, 5)\n",
    "\n",
    "print(ceil)\n",
    "print(floor)\n",
    "print(roundNP)"
   ]
  },
  {
   "cell_type": "code",
   "execution_count": 44,
   "id": "479dcb8b",
   "metadata": {},
   "outputs": [
    {
     "data": {
      "text/plain": [
       "array([[['1', '2', '3'],\n",
       "        ['A', 'B', 'C']],\n",
       "\n",
       "       [['4', '5', '6'],\n",
       "        ['D', 'E', 'F']],\n",
       "\n",
       "       [['7', '8', '9'],\n",
       "        ['G', 'H', 'I']]], dtype='<U11')"
      ]
     },
     "execution_count": 44,
     "metadata": {},
     "output_type": "execute_result"
    }
   ],
   "source": [
    "list1 = np.array(([1,2,3], [\"A\", \"B\", \"C\"]))\n",
    "list2 = np.array(([4,5,6], [\"D\", \"E\" , \"F\"]))\n",
    "list3 = np.array(([7,8,9], [\"G\", \"H\", \"I\"]))\n",
    "\n",
    "allList = np.array((list1, list2, list3))\n",
    "allList\n"
   ]
  },
  {
   "cell_type": "code",
   "execution_count": 45,
   "id": "e75c65f4",
   "metadata": {},
   "outputs": [
    {
     "data": {
      "text/plain": [
       "'6'"
      ]
     },
     "execution_count": 45,
     "metadata": {},
     "output_type": "execute_result"
    }
   ],
   "source": [
    "allList[1][0][2]"
   ]
  },
  {
   "cell_type": "code",
   "execution_count": 35,
   "id": "db3be5e3",
   "metadata": {},
   "outputs": [
    {
     "data": {
      "text/plain": [
       "array([['D', 'E', 'F']], dtype='<U11')"
      ]
     },
     "execution_count": 35,
     "metadata": {},
     "output_type": "execute_result"
    }
   ],
   "source": [
    "list2withoutColumn0 = np.delete(list2, 0, axis = 0)\n",
    "list2withoutColumn0"
   ]
  },
  {
   "cell_type": "code",
   "execution_count": 37,
   "id": "cced62bf",
   "metadata": {},
   "outputs": [
    {
     "data": {
      "text/plain": [
       "array([['7', '7', '7', '8', '8', '8', '9', '9', '9'],\n",
       "       ['G', 'G', 'G', 'H', 'H', 'H', 'I', 'I', 'I']], dtype='<U11')"
      ]
     },
     "execution_count": 37,
     "metadata": {},
     "output_type": "execute_result"
    }
   ],
   "source": [
    "list3X3 = np.repeat(list3, 3, axis = 1)\n",
    "list3X3"
   ]
  },
  {
   "cell_type": "code",
   "execution_count": null,
   "id": "20b60e5d",
   "metadata": {},
   "outputs": [],
   "source": []
  }
 ],
 "metadata": {
  "kernelspec": {
   "display_name": "Python 3 (ipykernel)",
   "language": "python",
   "name": "python3"
  },
  "language_info": {
   "codemirror_mode": {
    "name": "ipython",
    "version": 3
   },
   "file_extension": ".py",
   "mimetype": "text/x-python",
   "name": "python",
   "nbconvert_exporter": "python",
   "pygments_lexer": "ipython3",
   "version": "3.9.7"
  }
 },
 "nbformat": 4,
 "nbformat_minor": 5
}
