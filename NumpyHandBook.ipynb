{
 "cells": [
  {
   "cell_type": "markdown",
   "id": "9eb74b01",
   "metadata": {},
   "source": [
    "# Numpy Personal Handbook"
   ]
  },
  {
   "cell_type": "code",
   "execution_count": 2,
   "id": "4af5e978",
   "metadata": {},
   "outputs": [],
   "source": [
    "import numpy as np"
   ]
  },
  {
   "cell_type": "markdown",
   "id": "6940a2de",
   "metadata": {},
   "source": [
    "## You can make list and matrix"
   ]
  },
  {
   "cell_type": "code",
   "execution_count": 2,
   "id": "62829917",
   "metadata": {},
   "outputs": [],
   "source": [
    "list1D = [1,2,3,4,5,6]\n",
    "list2D = [[1,2,3], [4,5,6]]"
   ]
  },
  {
   "cell_type": "markdown",
   "id": "daab5154",
   "metadata": {},
   "source": [
    "## Get elements from list and matrix"
   ]
  },
  {
   "cell_type": "code",
   "execution_count": 61,
   "id": "4aeb4538",
   "metadata": {},
   "outputs": [
    {
     "name": "stdout",
     "output_type": "stream",
     "text": [
      "[1, 2, 3, 4]\n",
      "6\n"
     ]
    }
   ],
   "source": [
    "print(list1D[0:4])\n",
    "print(list2D[1][2])"
   ]
  },
  {
   "cell_type": "code",
   "execution_count": 65,
   "id": "dc7e6657",
   "metadata": {},
   "outputs": [
    {
     "name": "stdout",
     "output_type": "stream",
     "text": [
      "[1, 2, 33, 4, 5, 6]\n"
     ]
    }
   ],
   "source": [
    "backUpList1D = list1D.copy()\n",
    "backUpList2D = list2D.copy()\n",
    "backUpList1D[2] = 33\n",
    "\n",
    "print(backUpList1D)"
   ]
  },
  {
   "cell_type": "code",
   "execution_count": 11,
   "id": "7a150ce5",
   "metadata": {},
   "outputs": [
    {
     "name": "stdout",
     "output_type": "stream",
     "text": [
      "This is a one dimensional list: \n",
      " [1 2 3 4 5 6]\n",
      "And this a two dimensional list: \n",
      " [[1 2 3]\n",
      " [4 5 6]]\n"
     ]
    }
   ],
   "source": [
    "npList1D = np.array(list1D)\n",
    "nplist2D = np.array(list2D)\n",
    "print(f\"This is a one dimensional list: \\n {npList1D}\")\n",
    "print(f\"And this a two dimensional list: \\n {nplist2D}\")"
   ]
  },
  {
   "cell_type": "code",
   "execution_count": 67,
   "id": "d9d8c5a4",
   "metadata": {},
   "outputs": [
    {
     "name": "stdout",
     "output_type": "stream",
     "text": [
      "[2 5]\n",
      "6\n"
     ]
    }
   ],
   "source": [
    "print(nplist2D[:,1])\n",
    "print(nplist2D[1,2])"
   ]
  },
  {
   "cell_type": "markdown",
   "id": "8f753873",
   "metadata": {},
   "source": [
    "## You can make numerical list"
   ]
  },
  {
   "cell_type": "code",
   "execution_count": 12,
   "id": "0665dca2",
   "metadata": {},
   "outputs": [
    {
     "name": "stdout",
     "output_type": "stream",
     "text": [
      "[ 1  2  3  4  5  6  7  8  9 10]\n"
     ]
    }
   ],
   "source": [
    "npRange = np.arange(1,11)\n",
    "print(npRange)"
   ]
  },
  {
   "cell_type": "markdown",
   "id": "486568b1",
   "metadata": {},
   "source": [
    "# You can make basic math"
   ]
  },
  {
   "cell_type": "code",
   "execution_count": 24,
   "id": "9e95168b",
   "metadata": {},
   "outputs": [
    {
     "name": "stdout",
     "output_type": "stream",
     "text": [
      "[3 4 5 6 7]\n",
      "[-1  0  1  2  3]\n",
      "[ 2  4  6  8 10]\n",
      "[0.5 1.  1.5 2.  2.5]\n",
      "[ 1  4  9 16 25]\n",
      "[1 0 1 0 1]\n"
     ]
    }
   ],
   "source": [
    "mathList = np.array([1,2,3,4,5])\n",
    "mathList2 = np.array([2,2,2,2,2])\n",
    "\n",
    "print(mathList+mathList2)\n",
    "print(mathList-mathList2)\n",
    "print(mathList*mathList2)\n",
    "print(mathList/mathList2)\n",
    "print(mathList**mathList2)\n",
    "print(mathList%mathList2)"
   ]
  },
  {
   "cell_type": "markdown",
   "id": "61fad9a7",
   "metadata": {},
   "source": [
    "# Counting Values"
   ]
  },
  {
   "cell_type": "code",
   "execution_count": 33,
   "id": "444c6ba6",
   "metadata": {},
   "outputs": [
    {
     "name": "stdout",
     "output_type": "stream",
     "text": [
      "Number that are equal in two arrays: 1\n",
      "Number that are different in two arrays: 4\n",
      "Another way to know if you have differnt values in two array with boolean: False\n"
     ]
    }
   ],
   "source": [
    "print(f\"Number that are equal in two arrays: {np.sum(mathList==mathList2)}\")\n",
    "print(f\"Number that are different in two arrays: {np.sum(mathList!=mathList2)}\")\n",
    "print(f\"Another way to know if you have differnt values in two array with boolean: {np.array_equal(mathList, mathList2)}\")"
   ]
  },
  {
   "cell_type": "markdown",
   "id": "f607178d",
   "metadata": {},
   "source": [
    "## You can make matrix with a diagonal"
   ]
  },
  {
   "cell_type": "code",
   "execution_count": 30,
   "id": "b44abcdc",
   "metadata": {},
   "outputs": [
    {
     "name": "stdout",
     "output_type": "stream",
     "text": [
      "By default it is always to be ones \n",
      " [[1. 0. 0. 0.]\n",
      " [0. 1. 0. 0.]\n",
      " [0. 0. 1. 0.]\n",
      " [0. 0. 0. 1.]]\n",
      "In this one you can selected which number you like to be on the diagonal \n",
      " [[1 0 0 0]\n",
      " [0 2 0 0]\n",
      " [0 0 3 0]\n",
      " [0 0 0 4]]\n"
     ]
    }
   ],
   "source": [
    "matrixOne = np.eye(4)\n",
    "print(f\"By default it is always to be ones \\n {matrixOne}\")\n",
    "matrix1to4 = np.diag([1,2,3,4])\n",
    "print(f\"In this one you can selected which numbers you like to be on the diagonal \\n {matrix1to4}\")"
   ]
  },
  {
   "cell_type": "markdown",
   "id": "9c3dfe2b",
   "metadata": {},
   "source": [
    "# You can make matrix with specific numbers"
   ]
  },
  {
   "cell_type": "code",
   "execution_count": 5,
   "id": "11e3cb78",
   "metadata": {},
   "outputs": [
    {
     "name": "stdout",
     "output_type": "stream",
     "text": [
      "[[0. 0. 0. 0.]\n",
      " [0. 0. 0. 0.]\n",
      " [0. 0. 0. 0.]]\n",
      "[[1. 1. 1. 1. 1. 1.]\n",
      " [1. 1. 1. 1. 1. 1.]\n",
      " [1. 1. 1. 1. 1. 1.]\n",
      " [1. 1. 1. 1. 1. 1.]\n",
      " [1. 1. 1. 1. 1. 1.]]\n",
      "[[7 7 7 7 7]\n",
      " [7 7 7 7 7]\n",
      " [7 7 7 7 7]\n",
      " [7 7 7 7 7]\n",
      " [7 7 7 7 7]]\n"
     ]
    }
   ],
   "source": [
    "zerosList = np.zeros((3,4))\n",
    "print(zerosList)\n",
    "onesList = np.ones((5,6))\n",
    "print(onesList)\n",
    "sevensList = np.full((5,5), 7)\n",
    "print(sevensList)"
   ]
  },
  {
   "cell_type": "markdown",
   "id": "674f42da",
   "metadata": {},
   "source": [
    "## You can reshape with matrix dimentions"
   ]
  },
  {
   "cell_type": "code",
   "execution_count": 15,
   "id": "1c4e30d6",
   "metadata": {},
   "outputs": [
    {
     "name": "stdout",
     "output_type": "stream",
     "text": [
      "(2, 5) \n",
      " [[ 1  2  3  4  5]\n",
      " [ 6  7  8  9 10]]\n",
      "(5, 2)\n",
      " [[ 1  2]\n",
      " [ 3  4]\n",
      " [ 5  6]\n",
      " [ 7  8]\n",
      " [ 9 10]]\n"
     ]
    }
   ],
   "source": [
    "matrix2X5= np.array([[1,2,3,4,5], [6,7,8,9,10]])\n",
    "print(f\"{matrix2X5.shape} \\n {matrix2X5}\")\n",
    "matrix5X2 = matrix2X5.reshape((5,2))\n",
    "print(f\"{matrix5X2.shape}\\n {matrix5X2}\")"
   ]
  },
  {
   "cell_type": "markdown",
   "id": "0fbd07c0",
   "metadata": {},
   "source": [
    "# You can know more informacion about the matrix or array"
   ]
  },
  {
   "cell_type": "code",
   "execution_count": 20,
   "id": "439d3202",
   "metadata": {},
   "outputs": [
    {
     "name": "stdout",
     "output_type": "stream",
     "text": [
      "2\n",
      "10\n",
      "(5, 2)\n",
      "int32\n"
     ]
    }
   ],
   "source": [
    "print(matrix5X2.ndim)\n",
    "print(matrix5X2.size)\n",
    "print(matrix5X2.shape)\n",
    "print(matrix5X2.dtype)"
   ]
  },
  {
   "cell_type": "markdown",
   "id": "41af2705",
   "metadata": {},
   "source": [
    "# You can turn an array into a list"
   ]
  },
  {
   "cell_type": "code",
   "execution_count": 35,
   "id": "78cced7f",
   "metadata": {},
   "outputs": [
    {
     "name": "stdout",
     "output_type": "stream",
     "text": [
      "[[1, 2, 3, 4, 5], [6, 7, 8, 9, 10]]\n"
     ]
    }
   ],
   "source": [
    "matrixToList = matrix2X5.tolist()\n",
    "print(matrixToList)"
   ]
  },
  {
   "cell_type": "markdown",
   "id": "b2ce1e34",
   "metadata": {},
   "source": [
    "## Save and Load Information"
   ]
  },
  {
   "cell_type": "code",
   "execution_count": null,
   "id": "b80b2ce7",
   "metadata": {},
   "outputs": [],
   "source": [
    "np.save(\"matrix5X2\", matrix5X2)\n",
    "\n",
    "np.savetxt(\"matrix5X2.csv\", matrix5X2, fmt = \"%d\")\n",
    "\n",
    "np.load(\"matrix5X2.npy\")\n",
    "\n",
    "np.load(\"matrix5X2.csv\", dtype = int)"
   ]
  },
  {
   "cell_type": "markdown",
   "id": "80fc3233",
   "metadata": {},
   "source": [
    "## You can create a list from a start and end but inside with how many numbers would you like"
   ]
  },
  {
   "cell_type": "code",
   "execution_count": 31,
   "id": "be213df4",
   "metadata": {},
   "outputs": [
    {
     "name": "stdout",
     "output_type": "stream",
     "text": [
      "[ 1.          1.47368421  1.94736842  2.42105263  2.89473684  3.36842105\n",
      "  3.84210526  4.31578947  4.78947368  5.26315789  5.73684211  6.21052632\n",
      "  6.68421053  7.15789474  7.63157895  8.10526316  8.57894737  9.05263158\n",
      "  9.52631579 10.        ]\n"
     ]
    }
   ],
   "source": [
    "from1To10In20Numbers = np.linspace(1,10,20)\n",
    "print(from1To10In20Numbers)"
   ]
  },
  {
   "cell_type": "markdown",
   "id": "2fd29f1e",
   "metadata": {},
   "source": [
    "## Random Number"
   ]
  },
  {
   "cell_type": "code",
   "execution_count": 7,
   "id": "eb3abb1f",
   "metadata": {},
   "outputs": [
    {
     "name": "stdout",
     "output_type": "stream",
     "text": [
      "Random float Number from 0 to 1: [0.51639863]\n",
      "Random Integer Number: 2\n",
      "Random number with a uniform distribution [8.71610615 8.90668569 3.00798237 6.20466528 4.73605376 6.46294006\n",
      " 4.59713136 7.67332748 8.3523833  3.45409139]\n",
      "Three random numbers that could be negative and positive:  [10.10359137 24.9810814  15.31259377]\n",
      "A random choice between dog or cat:  Dog\n"
     ]
    }
   ],
   "source": [
    "np.random.seed(101)\n",
    "randomNumberFrom0to1 = np.random.rand(1)\n",
    "print(f\"Random float Number from 0 to 1: {randomNumberFrom0to1}\")\n",
    "randomNumberInteger = np.random.randint(1,10)\n",
    "print(f\"Random Integer Number: {randomNumberInteger}\")\n",
    "randomUniform = np.random.uniform(3,9,10)\n",
    "print(f\"Random number with a uniform distribution {randomUniform}\")\n",
    "randomNormal = np.random.normal(1,10,3)\n",
    "print(\"Three random numbers that could be negative and positive: \",randomNormal)\n",
    "dogORcat = np.random.choice([\"Dog\", \"Cat\"])\n",
    "print(\"A random choice between dog or cat: \", dogORcat)"
   ]
  },
  {
   "cell_type": "markdown",
   "id": "6db253aa",
   "metadata": {},
   "source": [
    "## Aggregate functions"
   ]
  },
  {
   "cell_type": "code",
   "execution_count": 49,
   "id": "33c9a8d4",
   "metadata": {},
   "outputs": [
    {
     "name": "stdout",
     "output_type": "stream",
     "text": [
      "[1 2 3] \n",
      " [1.2 5.6 3.5]\n"
     ]
    }
   ],
   "source": [
    "nparray = np.array([1,2,3])\n",
    "nparray2 = np.array([1.2,5.6,3.5])\n",
    "print(f\"{nparray} \\n {nparray2}\")"
   ]
  },
  {
   "cell_type": "code",
   "execution_count": 60,
   "id": "2e2216e6",
   "metadata": {},
   "outputs": [
    {
     "name": "stdout",
     "output_type": "stream",
     "text": [
      "3\n",
      "2\n",
      "1\n",
      "0\n",
      "2.0\n",
      "0.816496580927726\n",
      "[1.         1.41421356 1.73205081]\n",
      "[ 2.71828183  7.3890561  20.08553692]\n",
      "[0.84147098 0.90929743 0.14112001]\n",
      "[0.         0.69314718 1.09861229]\n",
      "[2. 6. 4.]\n",
      "[1. 5. 3.]\n",
      "[1. 6. 4.]\n"
     ]
    }
   ],
   "source": [
    "print(nparray.max())\n",
    "print(nparray.argmax()) #Give you the position of the max element\n",
    "print(nparray.min())\n",
    "print(nparray.argmin()) #Give you the position of the min element\n",
    "print(nparray.mean())\n",
    "\n",
    "print(nparray.std())\n",
    "print(np.sqrt(nparray))\n",
    "print(np.exp(nparray))\n",
    "print(np.sin(nparray))\n",
    "print(np.log(nparray))\n",
    "\n",
    "print(np.ceil(nparray2))\n",
    "print(np.floor(nparray2))\n",
    "print(np.round(nparray2))\n"
   ]
  },
  {
   "cell_type": "markdown",
   "id": "6a9d2f23",
   "metadata": {},
   "source": [
    "## Conditional Formatting"
   ]
  },
  {
   "cell_type": "code",
   "execution_count": 22,
   "id": "b475983e",
   "metadata": {},
   "outputs": [
    {
     "name": "stdout",
     "output_type": "stream",
     "text": [
      "[20 11 77 96 88  1 74  9 63 37 84 29 64  8 11 53 57 39 74 53 19 72 16 45\n",
      "  1 13 18 76 80 98 94 25 37 64 20 36 31 11 61 21 28  9 87 27 88 47 48 55\n",
      " 87 10 46  3 19 59 93 12 11 95 36 29  4 84 85 48 15 70 61 70 52  7 89 72\n",
      " 69 24 36]\n"
     ]
    }
   ],
   "source": [
    "randomPick = np.random.randint(1,100, 75)\n",
    "print(randomPick)"
   ]
  },
  {
   "cell_type": "code",
   "execution_count": 83,
   "id": "d7d0f233",
   "metadata": {},
   "outputs": [
    {
     "name": "stdout",
     "output_type": "stream",
     "text": [
      "[ 6 13 41  9 30 35 45 20 11  1  9 37 29  8 11 39 19 16 45  1 13 18 25 37\n",
      " 20 36 31 11 21 28  9 27 47 48 10 46  3 19 12 11 36 29]\n",
      "There are 42 number below 50\n"
     ]
    }
   ],
   "source": [
    "lessThan50 = randomPick < 50\n",
    "print(randomPick[lessThan50])\n",
    "print(f\"There are {np.count_nonzero(randomPick[lessThan50])} numbers below 50\")"
   ]
  },
  {
   "cell_type": "code",
   "execution_count": 74,
   "id": "e181ce32",
   "metadata": {},
   "outputs": [
    {
     "name": "stdout",
     "output_type": "stream",
     "text": [
      "[30 35 37 39 37 36 31 36]\n"
     ]
    }
   ],
   "source": [
    "all30 = (randomPick >=30) & (randomPick <=39)\n",
    "print(randomPick[all30])"
   ]
  },
  {
   "cell_type": "code",
   "execution_count": 23,
   "id": "4986a3ef",
   "metadata": {},
   "outputs": [
    {
     "name": "stdout",
     "output_type": "stream",
     "text": [
      "[96 88 84 98 94 87 88 87 93 95 84 85 89]\n"
     ]
    }
   ],
   "source": [
    "randomPickHightThan80 = np.where(randomPick>80)\n",
    "print(randomPick[randomPickHightThan80])"
   ]
  },
  {
   "cell_type": "markdown",
   "id": "0fccd7c6",
   "metadata": {},
   "source": [
    "## Sorting"
   ]
  },
  {
   "cell_type": "code",
   "execution_count": 78,
   "id": "8067d57b",
   "metadata": {},
   "outputs": [
    {
     "name": "stdout",
     "output_type": "stream",
     "text": [
      "[ 1  1  3  6  8  9  9  9 10 11 11 11 11 12 13 13 16 18 19 19 20 20 21 25\n",
      " 27 28 29 29 30 31 35 36 36 37 37 39 41 45 45 46 47 48 50 53 53 55 57 59\n",
      " 60 61 61 63 64 64 65 72 73 74 74 76 77 80 84 84 87 87 88 88 93 93 94 94\n",
      " 95 96 98]\n"
     ]
    }
   ],
   "source": [
    "sortedRandomPick = np.sort(randomPick)\n",
    "print(sortedRandomPick)"
   ]
  },
  {
   "cell_type": "code",
   "execution_count": 79,
   "id": "596b3fca",
   "metadata": {},
   "outputs": [
    {
     "name": "stdout",
     "output_type": "stream",
     "text": [
      "[98 96 95 94 94 93 93 88 88 87 87 84 84 80 77 76 74 74 73 72 65 64 64 63\n",
      " 61 61 60 59 57 55 53 53 50 48 47 46 45 45 41 39 37 37 36 36 35 31 30 29\n",
      " 29 28 27 25 21 20 20 19 19 18 16 13 13 12 11 11 11 11 10  9  9  9  8  6\n",
      "  3  1  1]\n"
     ]
    }
   ],
   "source": [
    "revereSortRandomPick = sortedRandomPick[::-1]\n",
    "print(revereSortRandomPick)"
   ]
  },
  {
   "cell_type": "markdown",
   "id": "90575a63",
   "metadata": {},
   "source": [
    "## Add, delete or insert info"
   ]
  },
  {
   "cell_type": "code",
   "execution_count": 92,
   "id": "d456e50f",
   "metadata": {},
   "outputs": [
    {
     "name": "stdout",
     "output_type": "stream",
     "text": [
      "[1 2 3 4 5 6]\n",
      "[1 2 3 5 6]\n",
      "[  1 100   2   3   5   6]\n"
     ]
    }
   ],
   "source": [
    "normalList = np.array([1,2,3,4,5])\n",
    "normalList = np.append(normalList, 6)\n",
    "print(normalList)\n",
    "normalList = np.delete(normalList, 3) #position\n",
    "print(normalList)\n",
    "normalList = np.insert(normalList, 1, 100) #First the position and then the value\n",
    "print(normalList)"
   ]
  },
  {
   "cell_type": "markdown",
   "id": "a1b21e1e",
   "metadata": {},
   "source": [
    "# You can add more arrays into a another array"
   ]
  },
  {
   "cell_type": "code",
   "execution_count": 40,
   "id": "6b4cbfee",
   "metadata": {},
   "outputs": [
    {
     "name": "stdout",
     "output_type": "stream",
     "text": [
      "Horizontal: \n",
      "[1 1 1 1 2 2 2 2] \n",
      "\n",
      "Vertical:\n",
      "[[1 1 1 1]\n",
      " [2 2 2 2]] \n",
      "\n"
     ]
    }
   ],
   "source": [
    "listNumber1 = np.array([1,1,1,1])\n",
    "listNumber2 = np.array([2,2,2,2])\n",
    "\n",
    "horizontalStack = np.hstack((listNumber1,listNumber2))\n",
    "verticalStack = np.vstack((listNumber1,listNumber2))\n",
    "\n",
    "print(\"Horizontal: \")\n",
    "print(horizontalStack, \"\\n\")\n",
    "print(\"Vertical:\")\n",
    "print(verticalStack, \"\\n\")"
   ]
  },
  {
   "cell_type": "markdown",
   "id": "484a2614",
   "metadata": {},
   "source": [
    "# Or Repeat an array"
   ]
  },
  {
   "cell_type": "code",
   "execution_count": 49,
   "id": "86aa6980",
   "metadata": {},
   "outputs": [
    {
     "name": "stdout",
     "output_type": "stream",
     "text": [
      "Vertical:\n",
      "[1 1 1 1 1 1 1 1] \n",
      "\n",
      "Horizontal: \n",
      "[[ 1  1  2  2]\n",
      " [ 3  3  4  4]\n",
      " [ 5  5  6  6]\n",
      " [ 7  7  8  8]\n",
      " [ 9  9 10 10]] \n",
      "\n"
     ]
    }
   ],
   "source": [
    "repeatVertical = np.repeat(listNumber1,2,  axis=0)\n",
    "repeatHorizontal = np.repeat(matrix5X2, 2, axis=1)\n",
    "\n",
    "print(\"Vertical:\")\n",
    "print(repeatVertical,  \"\\n\")\n",
    "print(\"Horizontal: \")\n",
    "print(repeatHorizontal,  \"\\n\")"
   ]
  },
  {
   "cell_type": "markdown",
   "id": "6f2dbbd6",
   "metadata": {},
   "source": [
    "# To select the unique values"
   ]
  },
  {
   "cell_type": "code",
   "execution_count": 51,
   "id": "aa50afef",
   "metadata": {},
   "outputs": [
    {
     "name": "stdout",
     "output_type": "stream",
     "text": [
      "[1 2 3 2 1 3 2 1 2 3 2 1]\n",
      "[1 2 3]\n"
     ]
    }
   ],
   "source": [
    "duplicateList=np.array([1,2,3,2,1,3,2,1,2,3,2,1])\n",
    "print(duplicateList)\n",
    "uniqueList = np.unique(duplicateList)\n",
    "print(uniqueList)"
   ]
  },
  {
   "cell_type": "markdown",
   "id": "31c3c78b",
   "metadata": {},
   "source": [
    "# You can transpose arrays"
   ]
  },
  {
   "cell_type": "code",
   "execution_count": 57,
   "id": "752a4529",
   "metadata": {},
   "outputs": [
    {
     "name": "stdout",
     "output_type": "stream",
     "text": [
      "Array Orgininal\n",
      "[[1 1 1 1]\n",
      " [2 2 2 2]] \n",
      "\n",
      "Array Transposed\n",
      "[[1 2]\n",
      " [1 2]\n",
      " [1 2]\n",
      " [1 2]] \n",
      "\n"
     ]
    }
   ],
   "source": [
    "listNumberMatrix = np.array([listNumber1, listNumber2])\n",
    "\n",
    "print(\"Array Orgininal\")\n",
    "print(listNumberMatrix, \"\\n\")\n",
    "\n",
    "print(\"Array Transposed\")\n",
    "transposeListNumberMatrix = np.transpose(listNumberMatrix)\n",
    "print(transposeListNumberMatrix, \"\\n\")\n"
   ]
  }
 ],
 "metadata": {
  "kernelspec": {
   "display_name": "Python 3 (ipykernel)",
   "language": "python",
   "name": "python3"
  },
  "language_info": {
   "codemirror_mode": {
    "name": "ipython",
    "version": 3
   },
   "file_extension": ".py",
   "mimetype": "text/x-python",
   "name": "python",
   "nbconvert_exporter": "python",
   "pygments_lexer": "ipython3",
   "version": "3.9.7"
  }
 },
 "nbformat": 4,
 "nbformat_minor": 5
}
