{
 "cells": [
  {
   "cell_type": "code",
   "execution_count": 1,
   "id": "55e580af",
   "metadata": {},
   "outputs": [],
   "source": [
    "import numpy as np\n"
   ]
  },
  {
   "cell_type": "code",
   "execution_count": 45,
   "id": "4317ae43",
   "metadata": {},
   "outputs": [
    {
     "name": "stdout",
     "output_type": "stream",
     "text": [
      "[96 12 82 71 64 88 76 10 78 41  5 64 41 61 93 65  6 13 94 41 50 84  9 30\n",
      " 60 35 45 73 20 11 77 96 88  1 74  9 63 37 84 29 64  8 11 53 57 39 74 53\n",
      " 19 72]\n"
     ]
    },
    {
     "data": {
      "text/plain": [
       "array([96, 12, 82, 71, 64, 88, 76, 10, 78, 41,  5, 64, 41, 61, 93, 65,  6,\n",
       "       13, 94, 41, 50, 84,  9, 30, 60, 35, 45, 73, 20, 11, 77, 96, 88,  1,\n",
       "       74,  9, 63, 37, 84, 29, 64,  8, 11, 53, 57, 39, 74, 53, 19, 72])"
      ]
     },
     "execution_count": 45,
     "metadata": {},
     "output_type": "execute_result"
    }
   ],
   "source": [
    "np.random.seed(101)\n",
    "\n",
    "NumberSet = np.random.randint(1,100, 50)\n",
    "print(NumberSet)\n",
    "CopyNumberSet = NumberSet.copy()\n",
    "\n",
    "CopyNumberSet\n",
    "          "
   ]
  },
  {
   "cell_type": "code",
   "execution_count": 46,
   "id": "0d065c71",
   "metadata": {},
   "outputs": [
    {
     "name": "stdout",
     "output_type": "stream",
     "text": [
      "[[96 12 82 71 64 88 76 10 78 41]\n",
      " [ 5 64 41 61 93 65  6 13 94 41]\n",
      " [50 84  9 30 60 35 45 73 20 11]\n",
      " [77 96 88  1 74  9 63 37 84 29]\n",
      " [64  8 11 53 57 39 74 53 19 72]]\n"
     ]
    }
   ],
   "source": [
    "CopyNumberSet = CopyNumberSet.reshape(5,10)\n",
    "print(CopyNumberSet)"
   ]
  },
  {
   "cell_type": "code",
   "execution_count": 47,
   "id": "169d3c1f",
   "metadata": {},
   "outputs": [
    {
     "data": {
      "text/plain": [
       "array([[96, 12, 82, 71, 64, 88, 76, 10, 78, 41],\n",
       "       [ 5, 64, 41, 61, 93, 65,  6, 13, 94, 41]])"
      ]
     },
     "execution_count": 47,
     "metadata": {},
     "output_type": "execute_result"
    }
   ],
   "source": [
    "CopyNumberSet[0:2,:]"
   ]
  },
  {
   "cell_type": "code",
   "execution_count": 8,
   "id": "010f4f68",
   "metadata": {},
   "outputs": [
    {
     "data": {
      "text/plain": [
       "array([[71, 64],\n",
       "       [61, 93],\n",
       "       [30, 60],\n",
       "       [ 1, 74],\n",
       "       [53, 57]])"
      ]
     },
     "execution_count": 8,
     "metadata": {},
     "output_type": "execute_result"
    }
   ],
   "source": [
    "CopyNumberSet[:,3:5]"
   ]
  },
  {
   "cell_type": "code",
   "execution_count": 48,
   "id": "68648124",
   "metadata": {},
   "outputs": [
    {
     "name": "stdout",
     "output_type": "stream",
     "text": [
      "[96 12 82 71 55 64 88 76 10 78 41  5 64 41 61 93 65  6 13 94 41 50 84  9\n",
      " 30 60 35 45 73 20 77 96 88  1 74  9 63 37 84 29 64  8 11 53 57 39 74 53\n",
      " 19 72 45]\n"
     ]
    }
   ],
   "source": [
    "CopyNumberSet = np.insert(CopyNumberSet, 4, 55)\n",
    "CopyNumberSet = np.delete(CopyNumberSet, 30)\n",
    "CopyNumberSet = np.append(CopyNumberSet, 45)\n",
    "print(CopyNumberSet)"
   ]
  },
  {
   "cell_type": "code",
   "execution_count": 23,
   "id": "75c276a5",
   "metadata": {},
   "outputs": [
    {
     "name": "stdout",
     "output_type": "stream",
     "text": [
      "96 \n",
      " 1 \n",
      " 50.52 \n",
      " 55.0 \n",
      " 29.230285664016353\n"
     ]
    }
   ],
   "source": [
    "MaxCopyNumberSet = np.max(CopyNumberSet)\n",
    "MinCopyNumberSet = np.min(CopyNumberSet)\n",
    "AvgCopyNumberSet = np.mean(CopyNumberSet)\n",
    "MedianCopyNumberSet = np.median(CopyNumberSet)\n",
    "StdCopyNumberSet = np.std(CopyNumberSet)\n",
    "\n",
    "print(MaxCopyNumberSet, \"\\n\", MinCopyNumberSet,\"\\n\", AvgCopyNumberSet , \"\\n\",MedianCopyNumberSet, \"\\n\",StdCopyNumberSet)"
   ]
  },
  {
   "cell_type": "code",
   "execution_count": 24,
   "id": "0e6e2e4b",
   "metadata": {},
   "outputs": [
    {
     "name": "stdout",
     "output_type": "stream",
     "text": [
      "[ 1  5  6  8  9 10 11 12 13 19 20 29 30 35 37 39 41 45 50 53 57 60 61 63\n",
      " 64 65 71 72 73 74 76 77 78 82 84 88 93 94 96]\n"
     ]
    }
   ],
   "source": [
    "UniqueValues = np.unique(CopyNumberSet)\n",
    "print(UniqueValues)"
   ]
  },
  {
   "cell_type": "code",
   "execution_count": 25,
   "id": "62ea3f76",
   "metadata": {},
   "outputs": [
    {
     "name": "stdout",
     "output_type": "stream",
     "text": [
      "[ 6.  8. 10. 12. 20. 30. 50. 60. 64. 72. 74. 76. 78. 82. 84. 88. 94. 96.]\n"
     ]
    }
   ],
   "source": [
    "UniqueListEven = np.array(())\n",
    "for i in UniqueValues:\n",
    "    if i % 2==0:\n",
    "        UniqueListEven = np.append(UniqueList, i)\n",
    "        \n",
    "print(UniqueListEven)"
   ]
  },
  {
   "cell_type": "code",
   "execution_count": 29,
   "id": "16abb163",
   "metadata": {},
   "outputs": [
    {
     "name": "stdout",
     "output_type": "stream",
     "text": [
      "There are 51 dogs and 49 cats\n"
     ]
    }
   ],
   "source": [
    "DogsVSCats = np.random.choice([\"Dog\", \"Cat\"], 100)\n",
    "Dogs = sum(DogsVSCats == \"Dog\")\n",
    "Cats = sum(DogsVSCats == \"Cat\")\n",
    "print(f\"There are {Dogs} dogs and {Cats} cats\")"
   ]
  },
  {
   "cell_type": "code",
   "execution_count": 53,
   "id": "4b428a50",
   "metadata": {},
   "outputs": [],
   "source": [
    "np.savetxt(\"uniquenumbers.csv\", UniqueValues, fmt=\"%d\")"
   ]
  },
  {
   "cell_type": "code",
   "execution_count": 30,
   "id": "7fc1da0a",
   "metadata": {},
   "outputs": [
    {
     "name": "stdout",
     "output_type": "stream",
     "text": [
      "113.09733552923255\n"
     ]
    }
   ],
   "source": [
    "def CircleArea(r):\n",
    "    return np.pi*r**2\n",
    "\n",
    "print(CircleArea(6))"
   ]
  },
  {
   "cell_type": "code",
   "execution_count": null,
   "id": "9979c738",
   "metadata": {},
   "outputs": [],
   "source": []
  }
 ],
 "metadata": {
  "kernelspec": {
   "display_name": "Python 3 (ipykernel)",
   "language": "python",
   "name": "python3"
  },
  "language_info": {
   "codemirror_mode": {
    "name": "ipython",
    "version": 3
   },
   "file_extension": ".py",
   "mimetype": "text/x-python",
   "name": "python",
   "nbconvert_exporter": "python",
   "pygments_lexer": "ipython3",
   "version": "3.9.7"
  }
 },
 "nbformat": 4,
 "nbformat_minor": 5
}
